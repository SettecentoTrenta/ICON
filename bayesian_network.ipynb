{
 "cells": [
  {
   "cell_type": "code",
   "execution_count": null,
   "id": "0eeb8503",
   "metadata": {},
   "outputs": [],
   "source": [
    "import pandas as pd\n",
    "\n",
    "# Definiamo i nomi delle colonne\n",
    "column_names = [\n",
    "    'id', 'diagnosis', 'radius_mean', 'texture_mean', 'perimeter_mean', 'area_mean',\n",
    "    'smoothness_mean', 'compactness_mean', 'concavity_mean', 'concave_points_mean',\n",
    "    'symmetry_mean', 'fractal_dimension_mean', 'radius_se', 'texture_se',\n",
    "    'perimeter_se', 'area_se', 'smoothness_se', 'compactness_se', 'concavity_se',\n",
    "    'concave_points_se', 'symmetry_se', 'fractal_dimension_se', 'radius_worst',\n",
    "    'texture_worst', 'perimeter_worst', 'area_worst', 'smoothness_worst',\n",
    "    'compactness_worst', 'concavity_worst', 'concave_points_worst', 'symmetry_worst',\n",
    "    'fractal_dimension_worst'\n",
    "]\n",
    "\n",
    "data = pd.read_csv('wdbc.data', header=None, names=column_names)"
   ]
  },
  {
   "cell_type": "code",
   "execution_count": null,
   "id": "1a5db53b",
   "metadata": {},
   "outputs": [],
   "source": [
    "from pgmpy.estimators import HillClimbSearch, K2Score\n",
    "from pgmpy.models import BayesianNetwork\n",
    "from pgmpy.inference import VariableElimination\n",
    "from sklearn.preprocessing import KBinsDiscretizer\n",
    "\n",
    "features = data.drop(columns=['id', 'diagnosis'])\n",
    "target = data['diagnosis']\n",
    "\n",
    "discretizer = KBinsDiscretizer(n_bins=3, encode='ordinal', strategy='uniform', subsample=None)\n",
    "features_disc = pd.DataFrame(discretizer.fit_transform(features), columns=features.columns, index=data.index).astype(int)\n",
    "\n",
    "data_disc = pd.concat([features_disc, target], axis=1)"
   ]
  },
  {
   "cell_type": "code",
   "execution_count": null,
   "id": "7030218e",
   "metadata": {},
   "outputs": [],
   "source": [
    "scoring_method = K2Score(data_disc)\n",
    "hc = HillClimbSearch(data_disc)\n",
    "best_model = hc.estimate(scoring_method=scoring_method, max_indegree=5, max_iter=int(1e4))\n",
    "print(\"Archi appresi:\", best_model.edges())\n",
    "\n",
    "bn = BayesianNetwork(best_model.edges())\n",
    "bn.fit(data_disc)"
   ]
  },
  {
   "cell_type": "code",
   "execution_count": null,
   "id": "2b027591",
   "metadata": {},
   "outputs": [],
   "source": [
    "import networkx as nx\n",
    "import matplotlib.pyplot as plt\n",
    "\n",
    "plt.figure(figsize=(40, 40))\n",
    "\n",
    "G = nx.DiGraph(best_model.edges())\n",
    "\n",
    "node_colors = ['red' if node == 'diagnosis' else 'skyblue' for node in G.nodes()]\n",
    "\n",
    "pos = nx.spring_layout(G, k=2.5, iterations=150)\n",
    "nx.draw(G, pos, with_labels=True, node_size=5000, node_color=node_colors, font_size=25, font_weight='bold', arrows=True, arrowsize=23)\n",
    "plt.title(\"Struttura della Rete Bayesiana Appresa\", size=23)\n",
    "plt.show()"
   ]
  },
  {
   "cell_type": "code",
   "execution_count": null,
   "id": "7f54553c",
   "metadata": {},
   "outputs": [],
   "source": [
    "markov_blanket = bn.get_markov_blanket('diagnosis')\n",
    "\n",
    "print(f\"La Markov Blanket di 'diagnosis' è: {markov_blanket}\")\n",
    "print(f\"\\nNumero di features nella Markov Blanket: {len(markov_blanket)}\")\n",
    "print(f\"\\nSono state eliminate {32 - len(markov_blanket)} features.\")\n",
    "print(\"\\nQueste sono le uniche variabili necessarie per predire la diagnosi secondo il modello appreso.\")\n",
    "print(\"Le altre variabili possono essere considerate ridondanti per questo scopo.\")\n",
    "\n",
    "features_ridotte = markov_blanket.copy()\n",
    "if 'diagnosis' not in features_ridotte:\n",
    "    features_ridotte.append('diagnosis')\n",
    "\n",
    "data_ridotto = data_disc[features_ridotte]"
   ]
  },
  {
   "cell_type": "code",
   "execution_count": null,
   "id": "1d6323d9",
   "metadata": {},
   "outputs": [],
   "source": [
    "G_ridotto = G.subgraph(features_ridotte)\n",
    "\n",
    "plt.figure(figsize=(20, 20))\n",
    "\n",
    "node_colors_ridotto = ['red' if node == 'diagnosis' else 'skyblue' for node in G_ridotto.nodes()]\n",
    "\n",
    "pos_ridotto = nx.spring_layout(G_ridotto, k=3.5, iterations=150)\n",
    "nx.draw(G_ridotto, pos_ridotto, with_labels=True, node_size=6000, node_color=node_colors_ridotto, font_size=20, font_weight='bold', arrows=True, arrowsize=20)\n",
    "plt.title(\"Sottografo della Rete Bayesiana: (Markov Blanket)\", size=25)\n",
    "plt.show()"
   ]
  },
  {
   "cell_type": "code",
   "execution_count": null,
   "id": "a44f0cd5",
   "metadata": {},
   "outputs": [],
   "source": [
    "from sklearn.model_selection import train_test_split\n",
    "from sklearn.metrics import accuracy_score, classification_report\n",
    "from sklearn.preprocessing import LabelEncoder\n",
    "import numpy as np\n",
    "\n",
    "best_model_ridotto = bn.subgraph(features_ridotte)\n",
    "print(\"Archi del modello ridotto:\", best_model_ridotto.edges())\n",
    "\n",
    "bn_ridotto = BayesianNetwork(best_model_ridotto.edges())\n",
    "bn_ridotto.fit(data_ridotto)\n",
    "\n",
    "X_ridotto = data_ridotto.drop('diagnosis', axis=1)\n",
    "le = LabelEncoder()\n",
    "y_ridotto = pd.Series(le.fit_transform(data_ridotto['diagnosis']), index=data_ridotto.index, name='diagnosis')\n",
    "\n",
    "X_train, X_test, y_train, y_test = train_test_split(X_ridotto, y_ridotto, test_size=0.3, random_state=42)\n",
    "\n",
    "y_pred_labels = bn_ridotto.predict(X_test)\n",
    "\n",
    "y_pred = le.transform(y_pred_labels['diagnosis'])\n",
    "\n",
    "\n",
    "accuracy = accuracy_score(y_test, y_pred)\n",
    "report_str = classification_report(y_test, y_pred, target_names=le.classes_)\n",
    "report = classification_report(y_test, y_pred, target_names=le.classes_, output_dict=True)\n",
    "\n",
    "\n",
    "print(f\"Accuratezza del modello ridotto: {accuracy:.4f}\\n\")\n",
    "print(\"Report del modello ridotto:\\n\", report_str)\n"
   ]
  },
  {
   "cell_type": "code",
   "execution_count": null,
   "id": "3c01aba5",
   "metadata": {},
   "outputs": [],
   "source": [
    "import numpy as np\n",
    "import matplotlib.pyplot as plt\n",
    "\n",
    "labels = le.classes_\n",
    "precision = [report[label]['precision'] for label in labels]\n",
    "recall = [report[label]['recall'] for label in labels]\n",
    "f1 = [report[label]['f1-score'] for label in labels]\n",
    "\n",
    "x = np.arange(len(labels))\n",
    "width = 0.25\n",
    "\n",
    "fig, ax = plt.subplots(figsize=(12, 8))\n",
    "rects1 = ax.bar(x - width, precision, width, label='Precision')\n",
    "rects2 = ax.bar(x, recall, width, label='Recall')\n",
    "rects3 = ax.bar(x + width, f1, width, label='F1-Score')\n",
    "\n",
    "ax.set_ylabel('Punteggio')\n",
    "ax.set_title('Metriche di Valutazione per Classe del Modello Ridotto')\n",
    "ax.set_xticks(x)\n",
    "ax.set_xticklabels(['Benigno (B)', 'Maligno (M)'])\n",
    "\n",
    "ax.axhline(y=accuracy, color='r', linestyle='--', label=f'Accuracy: {accuracy:.2f}')\n",
    "ax.legend()\n",
    "\n",
    "ax.bar_label(rects1, padding=3, fmt='%.2f')\n",
    "ax.bar_label(rects2, padding=3, fmt='%.2f')\n",
    "ax.bar_label(rects3, padding=3, fmt='%.2f')\n",
    "\n",
    "fig.tight_layout()\n",
    "plt.ylim(0, 1.1)\n",
    "plt.show()"
   ]
  }
 ],
 "metadata": {
  "kernelspec": {
   "display_name": ".venv",
   "language": "python",
   "name": "python3"
  },
  "language_info": {
   "codemirror_mode": {
    "name": "ipython",
    "version": 3
   },
   "file_extension": ".py",
   "mimetype": "text/x-python",
   "name": "python",
   "nbconvert_exporter": "python",
   "pygments_lexer": "ipython3",
   "version": "3.13.7"
  }
 },
 "nbformat": 4,
 "nbformat_minor": 5
}
