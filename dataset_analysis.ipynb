{
 "cells": [
  {
   "cell_type": "code",
   "execution_count": null,
   "id": "f8253825",
   "metadata": {},
   "outputs": [],
   "source": [
    "import pandas as pd\n",
    "\n",
    "# Definiamo i nomi delle colonne\n",
    "column_names = [\n",
    "    'id', 'diagnosis', 'radius_mean', 'texture_mean', 'perimeter_mean', 'area_mean',\n",
    "    'smoothness_mean', 'compactness_mean', 'concavity_mean', 'concave_points_mean',\n",
    "    'symmetry_mean', 'fractal_dimension_mean', 'radius_se', 'texture_se',\n",
    "    'perimeter_se', 'area_se', 'smoothness_se', 'compactness_se', 'concavity_se',\n",
    "    'concave_points_se', 'symmetry_se', 'fractal_dimension_se', 'radius_worst',\n",
    "    'texture_worst', 'perimeter_worst', 'area_worst', 'smoothness_worst',\n",
    "    'compactness_worst', 'concavity_worst', 'concave_points_worst', 'symmetry_worst',\n",
    "    'fractal_dimension_worst'\n",
    "]\n",
    "\n",
    "df = pd.read_csv('wdbc.data', header=None, names=column_names)\n"
   ]
  },
  {
   "cell_type": "code",
   "execution_count": null,
   "id": "20e89556",
   "metadata": {},
   "outputs": [],
   "source": [
    "print('Informazioni generali sul dataset:')\n",
    "df.info()"
   ]
  },
  {
   "cell_type": "code",
   "execution_count": null,
   "id": "095158f0",
   "metadata": {},
   "outputs": [],
   "source": [
    "# Visualizzamo alcune informazioni sul dataset\n",
    "\n",
    "print('Numero di righe e colonne nel dataset:', df.shape)"
   ]
  },
  {
   "cell_type": "code",
   "execution_count": null,
   "id": "8a9def4f",
   "metadata": {},
   "outputs": [],
   "source": [
    "import seaborn as sns\n",
    "import matplotlib.pyplot as plt\n",
    "\n",
    "# Creiamo un count plot per visualizzare la distribuzione della diagnosi\n",
    "ax = sns.countplot(x='diagnosis', data=df)\n",
    "plt.title('Distribuzione della Diagnosi (M=Maligno, B=Benigno)')\n",
    "\n",
    "# Aggiungiamo i conteggi sopra le barre\n",
    "for p in ax.patches:\n",
    "    count = int(p.get_height())\n",
    "    x = p.get_x() + p.get_width() / 2\n",
    "    y = p.get_height()\n",
    "    ax.annotate(f'{count}', (x, y), ha='center', va='bottom')\n",
    "\n",
    "plt.show()"
   ]
  },
  {
   "cell_type": "code",
   "execution_count": null,
   "id": "a9d27bcb",
   "metadata": {},
   "outputs": [],
   "source": [
    "# Calcoliamo i conteggi per la colonna 'diagnosis'\n",
    "diagnosis_counts = df['diagnosis'].value_counts()\n",
    "\n",
    "# Creiamo il grafico a torta\n",
    "plt.figure(figsize=(8, 8))\n",
    "plt.pie(diagnosis_counts, labels=diagnosis_counts.index, autopct='%1.1f%%', startangle=140)\n",
    "plt.title('Distribuzione della Diagnosi (M=Maligno, B=Benigno)')\n",
    "plt.axis('equal')  # Assicura che il grafico a torta sia un cerchio.\n",
    "plt.show()"
   ]
  },
  {
   "cell_type": "code",
   "execution_count": null,
   "id": "829bac82",
   "metadata": {},
   "outputs": [],
   "source": [
    "# Calcoliamo la matrice di correlazione\n",
    "# Escludiamo la colonna 'id' che non è una feature utile per la correlazione\n",
    "corr_matrix = df.drop('id', axis=1).corr(numeric_only=True)\n",
    "\n",
    "# Creiamo la heatmap\n",
    "plt.figure(figsize=(20, 18))\n",
    "sns.heatmap(corr_matrix, annot=True, cmap='coolwarm', fmt=\".1f\")\n",
    "plt.title('Matrice di Correlazione delle Features')\n",
    "plt.show()"
   ]
  }
 ],
 "metadata": {
  "kernelspec": {
   "display_name": ".venv",
   "language": "python",
   "name": "python3"
  },
  "language_info": {
   "codemirror_mode": {
    "name": "ipython",
    "version": 3
   },
   "file_extension": ".py",
   "mimetype": "text/x-python",
   "name": "python",
   "nbconvert_exporter": "python",
   "pygments_lexer": "ipython3",
   "version": "3.13.7"
  }
 },
 "nbformat": 4,
 "nbformat_minor": 5
}
